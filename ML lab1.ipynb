{
 "cells": [
  {
   "cell_type": "code",
   "execution_count": 5,
   "metadata": {},
   "outputs": [],
   "source": [
    "#импортирование нужных библиотек\n",
    "import pandas as pd\n",
    "from datetime import datetime \n",
    "import math\n",
    "import numpy as np\n",
    "from sklearn.model_selection import train_test_split\n",
    "from sklearn.linear_model import LogisticRegression\n",
    "from sklearn.metrics import confusion_matrix\n",
    "from sklearn.metrics import classification_report"
   ]
  },
  {
   "cell_type": "code",
   "execution_count": 6,
   "metadata": {},
   "outputs": [
    {
     "name": "stdout",
     "output_type": "stream",
     "text": [
      "   CustomerId ActivationDate   Age     Sex  SubscribedEmail  SubscribedPush\n",
      "0     2728183     2015-01-01  21.0  Female            False            True\n",
      "1     2728198     2015-01-01  21.0  Female             True            True\n",
      "2     2728306     2015-01-01  21.0  Female             True            True\n",
      "3     2728178     2015-01-01  22.0    Male             True            True\n",
      "4     2728322     2015-01-01  22.0    Male             True            True\n",
      "<class 'pandas.core.frame.DataFrame'>\n",
      "RangeIndex: 10000 entries, 0 to 9999\n",
      "Data columns (total 6 columns):\n",
      " #   Column           Non-Null Count  Dtype  \n",
      "---  ------           --------------  -----  \n",
      " 0   CustomerId       10000 non-null  int64  \n",
      " 1   ActivationDate   10000 non-null  object \n",
      " 2   Age              9953 non-null   float64\n",
      " 3   Sex              8874 non-null   object \n",
      " 4   SubscribedEmail  10000 non-null  bool   \n",
      " 5   SubscribedPush   10000 non-null  bool   \n",
      "dtypes: bool(2), float64(1), int64(1), object(2)\n",
      "memory usage: 332.2+ KB\n",
      "None\n"
     ]
    }
   ],
   "source": [
    "# Файл с информацией о клиентах\n",
    "first_file = pd.read_csv('resto-asap2018\\CASC_Constant.csv') \n",
    "print(first_file.head())\n",
    "print(first_file.info())"
   ]
  },
  {
   "cell_type": "code",
   "execution_count": 7,
   "metadata": {},
   "outputs": [
    {
     "name": "stdout",
     "output_type": "stream",
     "text": [
      "   CustomerID  Restaurant      RKDate                    RegionName  \\\n",
      "0     2898197         391  2017-07-16  Москва и Московская область    \n",
      "1     2903215          43  2015-04-07  Москва и Московская область    \n",
      "2     2748887          43  2015-05-22  Москва и Московская область    \n",
      "3     2862077          46  2015-03-05  Москва и Московская область    \n",
      "4     2862077          46  2015-03-11  Москва и Московская область    \n",
      "\n",
      "   BrandsNames DishCategoryName  Quantity  SummBasic  SummAfterPointsUsage  \n",
      "0  TGI FRIDAYS      NON ALCOHOL         2        2.0                   2.0  \n",
      "1     IL Патио      NON ALCOHOL         1        5.0                   5.0  \n",
      "2     IL Патио      NON ALCOHOL         1        5.0                   5.0  \n",
      "3     IL Патио      NON ALCOHOL         1        5.0                   5.0  \n",
      "4     IL Патио      NON ALCOHOL         1        5.0                   5.0  \n"
     ]
    }
   ],
   "source": [
    "# Файл с информацией о походах клиентов в рестораны\n",
    "second_file = pd.read_csv('resto-asap2018\\casc-resto.csv', sep=';', low_memory=False, decimal=',')\n",
    "print(second_file.head())\n",
    "print(second_file.info())"
   ]
  },
  {
   "cell_type": "code",
   "execution_count": 8,
   "metadata": {},
   "outputs": [],
   "source": [
    "# Файл с информацией о походах клиентов в рестораны (сжатая версия, далее не используется)\n",
    "third_file = pd.read_csv('resto-asap2018\\casc-resto-small.csv')\n",
    "#print(third_file.head())\n",
    "#print(third_file.info())"
   ]
  },
  {
   "cell_type": "code",
   "execution_count": 9,
   "metadata": {},
   "outputs": [
    {
     "name": "stdout",
     "output_type": "stream",
     "text": [
      "   index  CustomerID  Restaurant     RKDate                    RegionName  \\\n",
      "0      0     2898197         391 2017-07-16  Москва и Московская область    \n",
      "1      1     2903215          43 2015-04-07  Москва и Московская область    \n",
      "2      2     2748887          43 2015-05-22  Москва и Московская область    \n",
      "3      3     2862077          46 2015-03-05  Москва и Московская область    \n",
      "4      4     2862077          46 2015-03-11  Москва и Московская область    \n",
      "\n",
      "   BrandsNames DishCategoryName  Quantity  SummBasic  SummAfterPointsUsage  \\\n",
      "0  TGI FRIDAYS      NON ALCOHOL         2        2.0                   2.0   \n",
      "1     IL Патио      NON ALCOHOL         1        5.0                   5.0   \n",
      "2     IL Патио      NON ALCOHOL         1        5.0                   5.0   \n",
      "3     IL Патио      NON ALCOHOL         1        5.0                   5.0   \n",
      "4     IL Патио      NON ALCOHOL         1        5.0                   5.0   \n",
      "\n",
      "   BetweenTwoDates  \n",
      "0             True  \n",
      "1            False  \n",
      "2            False  \n",
      "3            False  \n",
      "4            False  \n"
     ]
    }
   ],
   "source": [
    "# Определить, совершал ли клиент визит в период между 2017-07-01 и 2017-12-31\n",
    "start_date = datetime(2017,7,1)\n",
    "final_date = datetime(2017,12,31)\n",
    "second_file['RKDate'] = pd.to_datetime(second_file['RKDate'])\n",
    "grouped = second_file.groupby(by='CustomerID',sort=False)\n",
    "second_file['BetweenTwoDates']=grouped['RKDate'].apply(lambda x: (x>=start_date)&(x<=final_date)) \n",
    "second_file = second_file.reset_index()\n",
    "print(second_file.head())"
   ]
  },
  {
   "cell_type": "code",
   "execution_count": 69,
   "metadata": {},
   "outputs": [],
   "source": [
    "# Расчёт Recency\n",
    "def recency(dataframe):\n",
    "    get_dates = dataframe[dataframe.RKDate<start_date].RKDate\n",
    "    if get_dates.size==0:\n",
    "        return 0\n",
    "    else:\n",
    "        max_dates = get_dates.max()\n",
    "        return (start_date - max_dates).days"
   ]
  },
  {
   "cell_type": "code",
   "execution_count": 70,
   "metadata": {},
   "outputs": [],
   "source": [
    "# расчёт frequency\n",
    "def frequency(dataframe):\n",
    "    first_visit = dataframe['RKDate'].min()\n",
    "    if first_visit >= start_date:\n",
    "        return 0\n",
    "    days_count = (start_date - first_visit).days\n",
    "    month_count = math.ceil(days_count / 30)\n",
    "    visit_count = dataframe.RKDate.size    \n",
    "    return visit_count/month_count"
   ]
  },
  {
   "cell_type": "code",
   "execution_count": 71,
   "metadata": {},
   "outputs": [],
   "source": [
    "# расчёт monetary_value\n",
    "def monetary_value(dataframe):\n",
    "    correct_dates = dataframe[dataframe.RKDate < start_date]\n",
    "    unique_dates = correct_dates.RKDate.unique()\n",
    "    if unique_dates.size == 0:\n",
    "        return 0\n",
    "    else:\n",
    "        point_usage_sum = correct_dates.SummAfterPointsUsage.sum()\n",
    "        return point_usage_sum / unique_dates.size"
   ]
  },
  {
   "cell_type": "code",
   "execution_count": 72,
   "metadata": {},
   "outputs": [],
   "source": [
    "# сумма скидок при всех посещениях\n",
    "def point_usage(dataframe):    \n",
    "    get_dates = dataframe[dataframe.RKDate<start_date]\n",
    "    basic_sum = get_dates.SummBasic.sum()\n",
    "    point_usage_sum = get_dates.SummAfterPointsUsage.sum()\n",
    "    return basic_sum - point_usage_sum"
   ]
  },
  {
   "cell_type": "code",
   "execution_count": 73,
   "metadata": {},
   "outputs": [],
   "source": [
    "# формирование таблицы\n",
    "def all_analytics(dataframe):\n",
    "    coloumns = dict({\n",
    "        \"Recency\": recency(dataframe),\n",
    "        \"Frequency\": frequency(dataframe),\n",
    "        \"Monetary value\": monetary_value(dataframe),\n",
    "        \"Point usage\": point_usage(dataframe)\n",
    "    })\n",
    "    return pd.Series(coloumns)"
   ]
  },
  {
   "cell_type": "code",
   "execution_count": 74,
   "metadata": {},
   "outputs": [
    {
     "name": "stdout",
     "output_type": "stream",
     "text": [
      "            Recency  Frequency  Monetary value  Point usage\n",
      "CustomerID                                                 \n",
      "2898197        64.0   7.821429     2695.222222       4754.0\n",
      "2903215       367.0   1.714286     1697.875000       1057.0\n",
      "2748887        23.0   7.433333     1241.320000       7020.0\n",
      "2862077       761.0   5.000000      565.000000       1123.0\n",
      "2801997       458.0   3.827586      580.033333       1347.5\n",
      "<class 'pandas.core.frame.DataFrame'>\n",
      "Int64Index: 10000 entries, 2898197 to 2744732\n",
      "Data columns (total 4 columns):\n",
      " #   Column          Non-Null Count  Dtype  \n",
      "---  ------          --------------  -----  \n",
      " 0   Recency         10000 non-null  float64\n",
      " 1   Frequency       10000 non-null  float64\n",
      " 2   Monetary value  10000 non-null  float64\n",
      " 3   Point usage     10000 non-null  float64\n",
      "dtypes: float64(4)\n",
      "memory usage: 390.6 KB\n",
      "None\n"
     ]
    }
   ],
   "source": [
    "# формирование DataFrame с нужными для модели данными\n",
    "customers_analytics = second_file.groupby(by = \"CustomerID\", sort=False).apply(all_analytics)\n",
    "print(customers_analytics.head())\n",
    "print(customers_analytics.info())"
   ]
  },
  {
   "cell_type": "code",
   "execution_count": 75,
   "metadata": {},
   "outputs": [
    {
     "name": "stdout",
     "output_type": "stream",
     "text": [
      "   CustomerID  Recency  Frequency  Monetary value  Point usage\n",
      "0     2898197     64.0   7.821429     2695.222222       4754.0\n",
      "1     2903215    367.0   1.714286     1697.875000       1057.0\n",
      "2     2748887     23.0   7.433333     1241.320000       7020.0\n",
      "3     2862077    761.0   5.000000      565.000000       1123.0\n",
      "4     2801997    458.0   3.827586      580.033333       1347.5\n"
     ]
    }
   ],
   "source": [
    "# установка индексов\n",
    "customers_analytics = customers_analytics.reset_index()\n",
    "print(customers_analytics.head())"
   ]
  },
  {
   "cell_type": "code",
   "execution_count": 76,
   "metadata": {
    "scrolled": true
   },
   "outputs": [
    {
     "name": "stdout",
     "output_type": "stream",
     "text": [
      "   CustomerId   Age     Sex\n",
      "0     2728183  21.0  Female\n",
      "1     2728198  21.0  Female\n",
      "2     2728306  21.0  Female\n",
      "3     2728178  22.0    Male\n",
      "4     2728322  22.0    Male\n"
     ]
    }
   ],
   "source": [
    "#изъятие информации о возрасте и поле клиентов\n",
    "customers_info = first_file[[\"CustomerId\",\"Age\",\"Sex\"]]\n",
    "print(customers_info.head())"
   ]
  },
  {
   "cell_type": "code",
   "execution_count": 77,
   "metadata": {},
   "outputs": [
    {
     "data": {
      "text/plain": [
       "Female    5141\n",
       "Male      3733\n",
       "NaN       1126\n",
       "Name: Sex, dtype: int64"
      ]
     },
     "execution_count": 77,
     "metadata": {},
     "output_type": "execute_result"
    }
   ],
   "source": [
    "# соединение двух таблиц\n",
    "data_for_model = pd.merge(left = customers_analytics, right = customers_info, left_on=\"CustomerID\", right_on=\"CustomerId\")\n",
    "data_for_model.drop(\"CustomerId\", axis=1, inplace = True)\n",
    "mean_Age = data_for_model['Age'].mean()\n",
    "data_for_model['Age'] = data_for_model.Age.fillna(mean_Age)\n",
    "data_for_model.Sex.value_counts(dropna=False)"
   ]
  },
  {
   "cell_type": "code",
   "execution_count": 78,
   "metadata": {},
   "outputs": [],
   "source": [
    "# декодинг пола клиента \n",
    "def sex_to_numbers(sex):\n",
    "    if sex == 'Male':\n",
    "        return 1\n",
    "    elif sex == 'Female':\n",
    "        return 2\n",
    "    else:\n",
    "        return 0"
   ]
  },
  {
   "cell_type": "code",
   "execution_count": 118,
   "metadata": {},
   "outputs": [
    {
     "name": "stdout",
     "output_type": "stream",
     "text": [
      "60000\n",
      "10000\n"
     ]
    }
   ],
   "source": [
    "# формирование обучающей и тестовой выборки\n",
    "data_for_model.Sex = data_for_model.Sex.apply(sex_to_numbers)\n",
    "x = data_for_model[['Recency','Frequency','Monetary value','Point usage','Age','Sex']].to_numpy()\n",
    "unique_people = second_file.groupby(by='CustomerID').BetweenTwoDates.max()\n",
    "y = unique_people.values\n",
    "print(x.size)\n",
    "print(y.size)\n",
    "x_train, x_test, y_train, y_test = train_test_split(x,y,test_size=0.2,random_state=42)"
   ]
  },
  {
   "cell_type": "code",
   "execution_count": 119,
   "metadata": {},
   "outputs": [
    {
     "data": {
      "text/plain": [
       "LogisticRegression(C=1.0, class_weight=None, dual=False, fit_intercept=True,\n",
       "                   intercept_scaling=1, l1_ratio=None, max_iter=100,\n",
       "                   multi_class='auto', n_jobs=None, penalty='l2',\n",
       "                   random_state=None, solver='lbfgs', tol=0.0001, verbose=0,\n",
       "                   warm_start=False)"
      ]
     },
     "execution_count": 119,
     "metadata": {},
     "output_type": "execute_result"
    }
   ],
   "source": [
    "# обучение\n",
    "regression = LogisticRegression()\n",
    "regression.fit(x_train, y_train)"
   ]
  },
  {
   "cell_type": "code",
   "execution_count": 123,
   "metadata": {},
   "outputs": [
    {
     "name": "stdout",
     "output_type": "stream",
     "text": [
      "[[1069   10]\n",
      " [ 909   12]]\n",
      "0.5405\n"
     ]
    }
   ],
   "source": [
    "# вероятность посещения на тестовой выборке\n",
    "y_predicted = regression.predict(x_test)\n",
    "print(confusion_matrix(y_test,y_predicted))\n",
    "print(regression.score(x_test, y_test))"
   ]
  },
  {
   "cell_type": "code",
   "execution_count": 121,
   "metadata": {},
   "outputs": [
    {
     "name": "stdout",
     "output_type": "stream",
     "text": [
      "              precision    recall  f1-score   support\n",
      "\n",
      "       False       0.54      0.99      0.70      1079\n",
      "        True       0.55      0.01      0.03       921\n",
      "\n",
      "    accuracy                           0.54      2000\n",
      "   macro avg       0.54      0.50      0.36      2000\n",
      "weighted avg       0.54      0.54      0.39      2000\n",
      "\n"
     ]
    }
   ],
   "source": [
    "# подсчёт precision и recall\n",
    "print(classification_report(y_test, y_predicted))"
   ]
  }
 ],
 "metadata": {
  "kernelspec": {
   "display_name": "Python 3",
   "language": "python",
   "name": "python3"
  },
  "language_info": {
   "codemirror_mode": {
    "name": "ipython",
    "version": 3
   },
   "file_extension": ".py",
   "mimetype": "text/x-python",
   "name": "python",
   "nbconvert_exporter": "python",
   "pygments_lexer": "ipython3",
   "version": "3.7.4"
  }
 },
 "nbformat": 4,
 "nbformat_minor": 4
}
