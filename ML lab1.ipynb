{
 "cells": [
  {
   "cell_type": "code",
   "execution_count": 3,
   "metadata": {},
   "outputs": [],
   "source": [
    "#импортирование нужных библиотек\n",
    "import pandas as pd # для анализа данных\n",
    "from datetime import datetime # для перевода строк, обозначающих даты, в формат date\n",
    "import math # использование математических операций\n",
    "import numpy as np # поддержка многомерных массивов\n",
    "from sklearn.model_selection import train_test_split # для разделения на тестовую и обучающую выборку\n",
    "from sklearn.linear_model import LogisticRegression # обучение логистической регрессии \n",
    "from sklearn.metrics import confusion_matrix # матрица итогов прогнозирования\n",
    "from sklearn.metrics import classification_report # подсчёт метрик\n",
    "from sklearn.preprocessing import LabelEncoder,OneHotEncoder # декодинг данных в числа"
   ]
  },
  {
   "cell_type": "code",
   "execution_count": 4,
   "metadata": {},
   "outputs": [
    {
     "name": "stdout",
     "output_type": "stream",
     "text": [
      "   CustomerId ActivationDate   Age     Sex  SubscribedEmail  SubscribedPush\n",
      "0     2728183     2015-01-01  21.0  Female            False            True\n",
      "1     2728198     2015-01-01  21.0  Female             True            True\n",
      "2     2728306     2015-01-01  21.0  Female             True            True\n",
      "3     2728178     2015-01-01  22.0    Male             True            True\n",
      "4     2728322     2015-01-01  22.0    Male             True            True\n",
      "<class 'pandas.core.frame.DataFrame'>\n",
      "RangeIndex: 10000 entries, 0 to 9999\n",
      "Data columns (total 6 columns):\n",
      " #   Column           Non-Null Count  Dtype  \n",
      "---  ------           --------------  -----  \n",
      " 0   CustomerId       10000 non-null  int64  \n",
      " 1   ActivationDate   10000 non-null  object \n",
      " 2   Age              9953 non-null   float64\n",
      " 3   Sex              8874 non-null   object \n",
      " 4   SubscribedEmail  10000 non-null  bool   \n",
      " 5   SubscribedPush   10000 non-null  bool   \n",
      "dtypes: bool(2), float64(1), int64(1), object(2)\n",
      "memory usage: 332.2+ KB\n",
      "None\n"
     ]
    }
   ],
   "source": [
    "# Файл с информацией о клиентах\n",
    "first_file = pd.read_csv('resto-asap2018\\CASC_Constant.csv')  # считываем данные из файла\n",
    "print(first_file.head()) # отображаем верхушку данных\n",
    "print(first_file.info()) # отображаем информацию о данных"
   ]
  },
  {
   "cell_type": "code",
   "execution_count": 5,
   "metadata": {},
   "outputs": [
    {
     "name": "stdout",
     "output_type": "stream",
     "text": [
      "   CustomerID  Restaurant      RKDate                    RegionName  \\\n",
      "0     2898197         391  2017-07-16  Москва и Московская область    \n",
      "1     2903215          43  2015-04-07  Москва и Московская область    \n",
      "2     2748887          43  2015-05-22  Москва и Московская область    \n",
      "3     2862077          46  2015-03-05  Москва и Московская область    \n",
      "4     2862077          46  2015-03-11  Москва и Московская область    \n",
      "\n",
      "   BrandsNames DishCategoryName  Quantity  SummBasic  SummAfterPointsUsage  \n",
      "0  TGI FRIDAYS      NON ALCOHOL         2        2.0                   2.0  \n",
      "1     IL Патио      NON ALCOHOL         1        5.0                   5.0  \n",
      "2     IL Патио      NON ALCOHOL         1        5.0                   5.0  \n",
      "3     IL Патио      NON ALCOHOL         1        5.0                   5.0  \n",
      "4     IL Патио      NON ALCOHOL         1        5.0                   5.0  \n",
      "<class 'pandas.core.frame.DataFrame'>\n",
      "RangeIndex: 882222 entries, 0 to 882221\n",
      "Data columns (total 9 columns):\n",
      " #   Column                Non-Null Count   Dtype  \n",
      "---  ------                --------------   -----  \n",
      " 0   CustomerID            882222 non-null  int64  \n",
      " 1   Restaurant            882222 non-null  int64  \n",
      " 2   RKDate                882222 non-null  object \n",
      " 3   RegionName            882222 non-null  object \n",
      " 4   BrandsNames           882222 non-null  object \n",
      " 5   DishCategoryName      881608 non-null  object \n",
      " 6   Quantity              882222 non-null  int64  \n",
      " 7   SummBasic             882222 non-null  float64\n",
      " 8   SummAfterPointsUsage  882222 non-null  float64\n",
      "dtypes: float64(2), int64(3), object(4)\n",
      "memory usage: 60.6+ MB\n",
      "None\n"
     ]
    }
   ],
   "source": [
    "# Файл с информацией о походах клиентов в рестораны\n",
    "second_file = pd.read_csv('resto-asap2018\\casc-resto.csv', sep=';', low_memory=False, decimal=',') # разделитель ;, \n",
    "# не переопределяем значения, символ распознавания десятичных частей \",\"\n",
    "print(second_file.head()) # отображаем верхушку данных\n",
    "print(second_file.info()) # отображаем информацию о данных"
   ]
  },
  {
   "cell_type": "code",
   "execution_count": 6,
   "metadata": {},
   "outputs": [],
   "source": [
    "# Файл с информацией о походах клиентов в рестораны (сжатая версия, далее не используется)\n",
    "third_file = pd.read_csv('resto-asap2018\\casc-resto-small.csv')\n",
    "#print(third_file.head())\n",
    "#print(third_file.info())"
   ]
  },
  {
   "cell_type": "code",
   "execution_count": 7,
   "metadata": {},
   "outputs": [
    {
     "name": "stdout",
     "output_type": "stream",
     "text": [
      "   index  CustomerID  Restaurant     RKDate                    RegionName  \\\n",
      "0      0     2898197         391 2017-07-16  Москва и Московская область    \n",
      "1      1     2903215          43 2015-04-07  Москва и Московская область    \n",
      "2      2     2748887          43 2015-05-22  Москва и Московская область    \n",
      "3      3     2862077          46 2015-03-05  Москва и Московская область    \n",
      "4      4     2862077          46 2015-03-11  Москва и Московская область    \n",
      "\n",
      "   BrandsNames DishCategoryName  Quantity  SummBasic  SummAfterPointsUsage  \\\n",
      "0  TGI FRIDAYS      NON ALCOHOL         2        2.0                   2.0   \n",
      "1     IL Патио      NON ALCOHOL         1        5.0                   5.0   \n",
      "2     IL Патио      NON ALCOHOL         1        5.0                   5.0   \n",
      "3     IL Патио      NON ALCOHOL         1        5.0                   5.0   \n",
      "4     IL Патио      NON ALCOHOL         1        5.0                   5.0   \n",
      "\n",
      "   BetweenTwoDates  \n",
      "0             True  \n",
      "1            False  \n",
      "2            False  \n",
      "3            False  \n",
      "4            False  \n"
     ]
    }
   ],
   "source": [
    "# Определить, совершал ли клиент визит в период между 2017-07-01 и 2017-12-31\n",
    "start_date = datetime(2017,7,1) # зафиксированная дата 2017-07-01\n",
    "final_date = datetime(2017,12,31) # зафикисированная дата 2017-12-31\n",
    "second_file['RKDate'] = pd.to_datetime(second_file['RKDate']) # переводим данные из колонки RKDate из формата str в datetime\n",
    "grouped = second_file.groupby(by='CustomerID',sort=False) # группируем по покупателям без сортировки\n",
    "second_file['BetweenTwoDates']=grouped['RKDate'].apply(lambda x: (x>=start_date)&(x<=final_date)) # записываем в новый столбец\n",
    "# результаты группировки с помощью выражения (True или False)\n",
    "second_file = second_file.reset_index() # индекс по умолчанию\n",
    "print(second_file.head())"
   ]
  },
  {
   "cell_type": "code",
   "execution_count": 8,
   "metadata": {},
   "outputs": [],
   "source": [
    "# Расчёт Recency - количество дней до последнего визита перед зафиксированной датой\n",
    "def recency(dataframe):\n",
    "    get_dates = dataframe[dataframe.RKDate<start_date].RKDate # берём даты, более ранние чем зафиксированная\n",
    "    if get_dates.size==0: # если таких дат нет\n",
    "        return 0 # возвращаем 0\n",
    "    else:\n",
    "        max_dates = get_dates.max() # берём максимальную дату из выбранных\n",
    "        return (start_date - max_dates).days # возвращаем количество дней между последним посещением и ЗД"
   ]
  },
  {
   "cell_type": "code",
   "execution_count": 9,
   "metadata": {},
   "outputs": [],
   "source": [
    "# расчёт frequency - среднее количество посещений в месяц\n",
    "def frequency(dataframe):\n",
    "    first_visit = dataframe['RKDate'].min() # берём самый ранний визит\n",
    "    if first_visit >= start_date: # если он был позже ЗД\n",
    "        return 0 # возвращаем 0\n",
    "    days_count = (start_date - first_visit).days # берём количество дней между ЗД и первым визитом\n",
    "    month_count = math.ceil(days_count / 30) # считаем количество прошедших месяцев\n",
    "    visit_count = dataframe.RKDate.unique().size # считаем кол-во визитов (в один день можно сходить только один раз)  \n",
    "    return visit_count/month_count # среднее количество равно количество визитов/количество месяцев"
   ]
  },
  {
   "cell_type": "code",
   "execution_count": 10,
   "metadata": {},
   "outputs": [],
   "source": [
    "# расчёт monetary_value - средний чек клиента\n",
    "def monetary_value(dataframe):\n",
    "    correct_dates = dataframe[dataframe.RKDate < start_date] # берём даты раньше чем ЗД\n",
    "    unique_dates = correct_dates.RKDate.unique() # берём только уникальные даты (1 день -1 посещение)\n",
    "    if unique_dates.size == 0: # если таких дат нет - 0\n",
    "        return 0\n",
    "    else:\n",
    "        point_usage_sum = correct_dates.SummAfterPointsUsage.sum() # считаем сумму записей за все даты \n",
    "        return point_usage_sum / unique_dates.size # среднее количество равно весь чек/кол-во дней"
   ]
  },
  {
   "cell_type": "code",
   "execution_count": 11,
   "metadata": {},
   "outputs": [],
   "source": [
    "# сумма скидок при всех посещениях - какова экономия за всё время посещения\n",
    "def point_usage(dataframe):    \n",
    "    get_dates = dataframe[dataframe.RKDate<start_date] # берём даты раньше чем ЗД \n",
    "    basic_sum = get_dates.SummBasic.sum() # сумма всех чеков без скидки\n",
    "    point_usage_sum = get_dates.SummAfterPointsUsage.sum() # сумма всех чеков со скидкой\n",
    "    return basic_sum - point_usage_sum # вычисляем разницу"
   ]
  },
  {
   "cell_type": "code",
   "execution_count": 12,
   "metadata": {},
   "outputs": [],
   "source": [
    "# формирование таблицы\n",
    "def all_analytics(dataframe):\n",
    "    coloumns = dict({ # создание словаря\n",
    "        \"Recency\": recency(dataframe),\n",
    "        \"Frequency\": frequency(dataframe),\n",
    "        \"Monetary value\": monetary_value(dataframe),\n",
    "        \"Point usage\": point_usage(dataframe)\n",
    "    })\n",
    "    return pd.Series(coloumns) # возвращаем структуру Series"
   ]
  },
  {
   "cell_type": "code",
   "execution_count": 13,
   "metadata": {},
   "outputs": [
    {
     "name": "stdout",
     "output_type": "stream",
     "text": [
      "            Recency  Frequency  Monetary value  Point usage\n",
      "CustomerID                                                 \n",
      "2898197        64.0   0.964286     2695.222222       4754.0\n",
      "2903215       367.0   0.285714     1697.875000       1057.0\n",
      "2748887        23.0   1.833333     1241.320000       7020.0\n",
      "2862077       761.0   0.724138      565.000000       1123.0\n",
      "2801997       458.0   0.517241      580.033333       1347.5\n",
      "<class 'pandas.core.frame.DataFrame'>\n",
      "Int64Index: 10000 entries, 2898197 to 2744732\n",
      "Data columns (total 4 columns):\n",
      " #   Column          Non-Null Count  Dtype  \n",
      "---  ------          --------------  -----  \n",
      " 0   Recency         10000 non-null  float64\n",
      " 1   Frequency       10000 non-null  float64\n",
      " 2   Monetary value  10000 non-null  float64\n",
      " 3   Point usage     10000 non-null  float64\n",
      "dtypes: float64(4)\n",
      "memory usage: 390.6 KB\n",
      "None\n"
     ]
    }
   ],
   "source": [
    "# формирование DataFrame с нужными для модели данными\n",
    "customers_analytics = second_file.groupby(by = \"CustomerID\", sort=False).apply(all_analytics) # возвращаем собранные ранее\n",
    "# колонки с группировкой по покупателям\n",
    "print(customers_analytics.head())\n",
    "print(customers_analytics.info())"
   ]
  },
  {
   "cell_type": "code",
   "execution_count": 14,
   "metadata": {},
   "outputs": [
    {
     "name": "stdout",
     "output_type": "stream",
     "text": [
      "   CustomerID  Recency  Frequency  Monetary value  Point usage\n",
      "0     2898197     64.0   0.964286     2695.222222       4754.0\n",
      "1     2903215    367.0   0.285714     1697.875000       1057.0\n",
      "2     2748887     23.0   1.833333     1241.320000       7020.0\n",
      "3     2862077    761.0   0.724138      565.000000       1123.0\n",
      "4     2801997    458.0   0.517241      580.033333       1347.5\n"
     ]
    }
   ],
   "source": [
    "# установка индексов\n",
    "customers_analytics = customers_analytics.reset_index() # индекс по умолчанию\n",
    "print(customers_analytics.head())"
   ]
  },
  {
   "cell_type": "code",
   "execution_count": 15,
   "metadata": {
    "scrolled": true
   },
   "outputs": [
    {
     "name": "stdout",
     "output_type": "stream",
     "text": [
      "   CustomerId   Age     Sex\n",
      "0     2728183  21.0  Female\n",
      "1     2728198  21.0  Female\n",
      "2     2728306  21.0  Female\n",
      "3     2728178  22.0    Male\n",
      "4     2728322  22.0    Male\n"
     ]
    }
   ],
   "source": [
    "#изъятие информации о возрасте и поле клиентов\n",
    "customers_info = first_file[[\"CustomerId\",\"Age\",\"Sex\"]] \n",
    "print(customers_info.head())"
   ]
  },
  {
   "cell_type": "code",
   "execution_count": 16,
   "metadata": {},
   "outputs": [
    {
     "data": {
      "text/plain": [
       "Female    5141\n",
       "Male      3733\n",
       "NaN       1126\n",
       "Name: Sex, dtype: int64"
      ]
     },
     "execution_count": 16,
     "metadata": {},
     "output_type": "execute_result"
    }
   ],
   "source": [
    "# соединение двух таблиц\n",
    "data_for_model = pd.merge(left = customers_analytics, right = customers_info, left_on=\"CustomerID\", right_on=\"CustomerId\")\n",
    "# соединяем результаты recency,frequency и тд и инфу о возрасте и поле\n",
    "data_for_model.drop(\"CustomerId\", axis=1, inplace = True) # удаляем указанную метку из столбцов\n",
    "mean_Age = data_for_model['Age'].mean() # среднее значение возраста \n",
    "data_for_model['Age'] = data_for_model.Age.fillna(mean_Age) # заполняем значения NaN средней датой\n",
    "data_for_model.Sex.value_counts(dropna=False) # отображаем количество различных значений"
   ]
  },
  {
   "cell_type": "code",
   "execution_count": 17,
   "metadata": {},
   "outputs": [],
   "source": [
    "# декодинг пола клиента \n",
    "#def sex_to_numbers(sex):\n",
    "#    if sex == 'Male':\n",
    "#        return 1\n",
    "#    elif sex == 'Female':\n",
    "#        return 2\n",
    "#    else:\n",
    "#        return 0"
   ]
  },
  {
   "cell_type": "code",
   "execution_count": 18,
   "metadata": {},
   "outputs": [
    {
     "name": "stdout",
     "output_type": "stream",
     "text": [
      "[[6.40000000e+01 9.64285714e-01 2.69522222e+03 ... 1.00000000e+00\n",
      "  0.00000000e+00 0.00000000e+00]\n",
      " [3.67000000e+02 2.85714286e-01 1.69787500e+03 ... 1.00000000e+00\n",
      "  0.00000000e+00 0.00000000e+00]\n",
      " [2.30000000e+01 1.83333333e+00 1.24132000e+03 ... 1.00000000e+00\n",
      "  0.00000000e+00 0.00000000e+00]\n",
      " ...\n",
      " [8.83000000e+02 1.00000000e-01 2.45000000e+02 ... 1.00000000e+00\n",
      "  0.00000000e+00 0.00000000e+00]\n",
      " [3.06000000e+02 4.16666667e-01 2.46600000e+02 ... 1.00000000e+00\n",
      "  0.00000000e+00 0.00000000e+00]\n",
      " [5.01000000e+02 1.86666667e+00 6.07125000e+02 ... 0.00000000e+00\n",
      "  1.00000000e+00 0.00000000e+00]]\n",
      "80000\n",
      "10000\n"
     ]
    }
   ],
   "source": [
    "# формирование обучающей и тестовой выборки\n",
    "#data_for_model.Sex = data_for_model.Sex.apply(sex_to_numbers)\n",
    "label_encoder = LabelEncoder() # подключаем LabelEncoder\n",
    "encode_values = label_encoder.fit_transform(data_for_model['Sex'].astype(str)) # преобразуем значения в 0 и 1 для Male и Female \n",
    "onehot_encoder = OneHotEncoder(sparse=False) # возвращаем массив\n",
    "encode_values = encode_values.reshape(len(encode_values),1) # меняем форму массива \n",
    "onehot_encoder = onehot_encoder.fit_transform(encode_values) # преобразуем столбец в 3 новых (для male,female,NaN)\n",
    "x = data_for_model[['Recency','Frequency','Monetary value','Point usage','Age']].to_numpy() # преобразуем в numpy array\n",
    "x = np.column_stack([x,onehot_encoder]) # соединяем результаты декодинга и это\n",
    "print(x)\n",
    "unique_people = second_file.groupby(by='CustomerID').BetweenTwoDates.max() # чтобы найти уникальные значения\n",
    "y = unique_people.values\n",
    "print(x.size)\n",
    "print(y.size)\n",
    "x_train, x_test, y_train, y_test = train_test_split(x,y,test_size=0.2,random_state=42) \n",
    "# х - отобранные данные, у - покупатели, 0.2 - тестовая выборка, 42 - разделяем данные на обучающие и тестовые"
   ]
  },
  {
   "cell_type": "code",
   "execution_count": 19,
   "metadata": {},
   "outputs": [
    {
     "data": {
      "text/plain": [
       "LogisticRegression(C=1.0, class_weight=None, dual=False, fit_intercept=True,\n",
       "                   intercept_scaling=1, l1_ratio=None, max_iter=100,\n",
       "                   multi_class='auto', n_jobs=None, penalty='l2',\n",
       "                   random_state=None, solver='lbfgs', tol=0.0001, verbose=0,\n",
       "                   warm_start=False)"
      ]
     },
     "execution_count": 19,
     "metadata": {},
     "output_type": "execute_result"
    }
   ],
   "source": [
    "# обучение\n",
    "regression = LogisticRegression() # логистическая регрессия\n",
    "regression.fit(x_train, y_train) # обучение на логистической регрессии"
   ]
  },
  {
   "cell_type": "code",
   "execution_count": 25,
   "metadata": {},
   "outputs": [
    {
     "name": "stdout",
     "output_type": "stream",
     "text": [
      "[[1065   14]\n",
      " [ 908   13]]\n",
      "0.539\n"
     ]
    }
   ],
   "source": [
    "# вероятность посещения на тестовой выборке\n",
    "y_predicted = regression.predict(x_test) # предсказываем метки\n",
    "print(confusion_matrix(y_test,y_predicted)) # подводим итоги обучения ()\n",
    "print(regression.score(x_test, y_test)) # средняя точность данных"
   ]
  },
  {
   "cell_type": "code",
   "execution_count": 112,
   "metadata": {},
   "outputs": [
    {
     "name": "stdout",
     "output_type": "stream",
     "text": [
      "              precision    recall  f1-score   support\n",
      "\n",
      "       False       0.54      0.99      0.70      1079\n",
      "        True       0.48      0.01      0.03       921\n",
      "\n",
      "    accuracy                           0.54      2000\n",
      "   macro avg       0.51      0.50      0.36      2000\n",
      "weighted avg       0.51      0.54      0.39      2000\n",
      "\n"
     ]
    }
   ],
   "source": [
    "# подсчёт precision и recall\n",
    "print(classification_report(y_test, y_predicted))"
   ]
  },
  {
   "cell_type": "code",
   "execution_count": null,
   "metadata": {},
   "outputs": [],
   "source": []
  }
 ],
 "metadata": {
  "kernelspec": {
   "display_name": "Python 3",
   "language": "python",
   "name": "python3"
  },
  "language_info": {
   "codemirror_mode": {
    "name": "ipython",
    "version": 3
   },
   "file_extension": ".py",
   "mimetype": "text/x-python",
   "name": "python",
   "nbconvert_exporter": "python",
   "pygments_lexer": "ipython3",
   "version": "3.7.4"
  }
 },
 "nbformat": 4,
 "nbformat_minor": 4
}
